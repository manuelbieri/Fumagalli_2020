{
 "cells": [
  {
   "cell_type": "code",
   "execution_count": null,
   "metadata": {
    "pycharm": {
     "name": "#%%\n"
    }
   },
   "outputs": [],
   "source": []
  },
  {
   "cell_type": "markdown",
   "metadata": {
    "pycharm": {
     "name": "#%% md\n"
    }
   },
   "source": [
    "## Documentation\n",
    "\n",
    "The __[API - Documentation](https://manuelbieri.ch/Fumagalli_2020)__ of the package provides the following information:\n",
    "- Installation instructions\n",
    "- Explanations about the models\n",
    "- Available methods and their usage for every model\n",
    "\n",
    "The paper, which constitutes the foundation of this program, can be found __[here](https://autopapers.ssrn.com/sol3/papers.cfm?abstract_id=3674889)__. On __[GitHub](https://github.com/manuelbieri/Fumagalli_2020)__ you can find the source code for this project."
   ]
  },
  {
   "cell_type": "markdown",
   "metadata": {
    "pycharm": {
     "name": "#%% md\n"
    }
   },
   "source": [
    "### Class hierarchy\n",
    "\n",
    "__![UML - Class diagram](../assets/visual/class_diagram.svg)__"
   ]
  },
  {
   "cell_type": "code",
   "execution_count": null,
   "outputs": [],
   "source": [
    "# setup environment\n",
    "\n",
    "# increase quality of plots\n",
    "import matplotlib.pyplot as plt\n",
    "\n",
    "%matplotlib inline\n",
    "%config InlineBackend.figure_format ='svg'\n",
    "plt.rcParams[\"figure.dpi\"] = 600\n",
    "\n",
    "# install and import models\n",
    "#%pip install Fumagalli_Motta_Tarantino_2020\n",
    "#%pip uninstall Fumagalli_Motta_Tarantino_2020\n",
    "import Fumagalli_Motta_Tarantino_2020 as FMT20\n",
    "\n",
    "FMT20.IVisualize.fontsize = \"medium\""
   ],
   "metadata": {
    "collapsed": false,
    "pycharm": {
     "name": "#%%\n"
    }
   }
  },
  {
   "cell_type": "markdown",
   "source": [
    "There are three players in our game: an Antitrust Authority (AA), which at the beginning of the game decides its\n",
    "merger policy; a monopolist $\\t{I}$ncumbent; and a $\\t{S}$tart-up. The start-up owns a “prototype” (or project)\n",
    "that, if developed, can give rise to an innovation: for instance a substitute/higher quality product to the\n",
    "incumbent’s existing product, or a more efficient production process. The start-up does not have enough own\n",
    "resources to develop the project. It has two options: it can either obtain additional funds from competitive\n",
    "capital markets, or sell out to the incumbent. The incumbent will have to decide whether and when it wants to\n",
    "acquire the start-up (and if it does so before product development, it has to decide whether to develop the\n",
    "prototype or shelve it), conditional on the AA’s approval of the acquisition. We assume that the takeover\n",
    "involves a negligible but positive transaction cost. The AA commits at the beginning of the game to a merger\n",
    "policy, in the form of a maximum threshold of “harm”, that it is ready to tolerate. Harm from a proposed merger\n",
    "consists of the difference between the expected welfare levels if the merger goes ahead, and in the counterfactual\n",
    "where it does not take place (derived of course by correctly anticipating the continuation equilibrium of the\n",
    "game). A proposed merger will be prohibited only if the tolerated harm level H is lower than the expected harm\n",
    "from the merger, if any."
   ],
   "metadata": {
    "collapsed": false,
    "pycharm": {
     "name": "#%% md\n"
    }
   }
  },
  {
   "cell_type": "markdown",
   "source": [
    "## Timing of the game:\n",
    "\n",
    "| Time | Action                                                                                                                                                 |\n",
    "|------|--------------------------------------------------------------------------------------------------------------------------------------------------------|\n",
    "| 0    | The AA commits to the standard for merger approval, $\\\\bar{H}$.                                                                                        |\n",
    "| 1(a) | $\\t{I}$ can make a takeover offer to $\\t{S}$, which can accept or reject.                                                                              |\n",
    "| 1(b) | The AA approves or blocks the takeover proposal.                                                                                                       |\n",
    "| 1(c) | The firm ($\\t{I}$ or $\\t{S}$) that owns the prototype decides whether to develop or shelve it.                                                         |\n",
    "| 1(d) | The owner of the prototype engages in financial contracting (if needed). After that, uncertainty about the success or failure of the project resolves. |\n",
    "| 2(a) | $\\t{I}$ can make a take-it-or-leave-it offer to $\\t{S}$ (if it did not already buy it at t = 1, and if the development of the project was successful). |\n",
    "| 2(b) | The AA approves or blocks the takeover proposal.                                                                                                       |\n",
    "| 3    | Active firms sell in the product market, payoffs are realised and contracts are honored.                                                               |"
   ],
   "metadata": {
    "collapsed": false,
    "pycharm": {
     "name": "#%% md\n"
    }
   }
  },
  {
   "cell_type": "markdown",
   "source": [
    "## Parameters\n",
    "\n"
   ],
   "metadata": {
    "collapsed": false,
    "pycharm": {
     "name": "#%% md\n"
    }
   }
  },
  {
   "cell_type": "markdown",
   "source": [
    "## Thresholds"
   ],
   "metadata": {
    "collapsed": false,
    "pycharm": {
     "name": "#%% md\n"
    }
   }
  },
  {
   "cell_type": "markdown",
   "source": [
    "## BaseModel, MergerPolicy and OptimalMergerPolicy"
   ],
   "metadata": {
    "collapsed": false,
    "pycharm": {
     "name": "#%% md\n"
    }
   }
  },
  {
   "cell_type": "code",
   "execution_count": null,
   "outputs": [],
   "source": [
    "model = FMT20.OptimalMergerPolicy()\n",
    "visual = FMT20.Overview(model)\n",
    "visual.plot()"
   ],
   "metadata": {
    "collapsed": false,
    "pycharm": {
     "name": "#%%\n"
    }
   }
  },
  {
   "cell_type": "code",
   "execution_count": null,
   "outputs": [],
   "source": [
    "import ipywidgets as widgets\n",
    "\n",
    "FMT20.IVisualize.fontsize = \"x-small\"\n",
    "base_model = FMT20.OptimalMergerPolicy()\n",
    "\n",
    "layout_slider = widgets.Layout(width=\"300px\")\n",
    "layout_widget = widgets.Layout(width=\"280px\", height=\"25px\", margin_left=\"50\")\n",
    "K = widgets.FloatSlider(\n",
    "    value=0.1, min=0.01, max=0.19, step=0.01, description=\"$K$\", layout=layout_slider\n",
    ")\n",
    "A = widgets.FloatSlider(\n",
    "    value=0.05, min=0.0, max=0.1, step=0.01, description=\"$A$\", layout=layout_slider\n",
    ")\n",
    "p = widgets.FloatSlider(\n",
    "    value=0.7, min=0.6, max=0.8, step=0.01, description=\"$p$\", layout=layout_slider\n",
    ")\n",
    "B = widgets.FloatSlider(\n",
    "    value=0.05, min=0.0, max=0.1, step=0.01, description=\"$B$\", layout=layout_slider\n",
    ")\n",
    "success = widgets.Dropdown(\n",
    "    options=[True, False],\n",
    "    value=True,\n",
    "    description=\"Development success (if attempted)\",\n",
    "    layout=layout_widget,\n",
    ")\n",
    "policy = widgets.Dropdown(\n",
    "    options=[\"Strict\", \"Laissez-faire\"],\n",
    "    value=\"Strict\",\n",
    "    description=\"Merger Policy\",\n",
    "    layout=layout_widget,\n",
    ")\n",
    "model_str = widgets.Dropdown(\n",
    "    options=[\n",
    "        \"OptimalMergerPolicy\",\n",
    "        \"MicroFoundation\",\n",
    "        \"ProCompetitive\",\n",
    "        \"ResourceWaste\",\n",
    "    ],\n",
    "    value=\"OptimalMergerPolicy\",\n",
    "    layout=layout_widget,\n",
    ")\n",
    "\n",
    "\n",
    "def policy_parser(policy_str: str):\n",
    "    if policy_str == \"Strict\":\n",
    "        return FMT20.MergerPolicies.Strict\n",
    "    if policy_str == \"Laissez-faire\":\n",
    "        return FMT20.MergerPolicies.Laissez_faire\n",
    "    return FMT20.MergerPolicies.Intermediate_late_takeover_allowed\n",
    "\n",
    "\n",
    "def create_plot(model_str: str, K, A, p, success, B, policy):\n",
    "    try:\n",
    "        if model_str == \"ProCompetitive\":\n",
    "            m = FMT20.ProCompetitive()\n",
    "        else:\n",
    "            m = FMT20.OptimalMergerPolicy()\n",
    "        m.development_costs = K\n",
    "        m.startup_assets = A\n",
    "        m.success_probability = p\n",
    "        m.development_success = success\n",
    "        m.private_benefit = B\n",
    "        m.merger_policy = policy_parser(policy)\n",
    "        FMT20.Overview(m, fig_size=(10, 8)).plot()\n",
    "    except AssertionError as e:\n",
    "        # prints the reason for a failed assertion\n",
    "        print(e)"
   ],
   "metadata": {
    "collapsed": false,
    "pycharm": {
     "name": "#%%\n"
    }
   }
  },
  {
   "cell_type": "code",
   "execution_count": null,
   "outputs": [],
   "source": [
    "# run the cell above, to ensure the functionality of the interactive plots\n",
    "widgets.interact(\n",
    "    create_plot, model_str=model_str, K=K, A=A, p=p, success=success, B=B, policy=policy\n",
    ")"
   ],
   "metadata": {
    "collapsed": false,
    "pycharm": {
     "name": "#%%\n"
    }
   }
  },
  {
   "cell_type": "code",
   "execution_count": null,
   "metadata": {
    "pycharm": {
     "name": "#%%\n"
    }
   },
   "outputs": [],
   "source": []
  }
 ],
 "metadata": {
  "kernelspec": {
   "display_name": "Python 3 (ipykernel)",
   "language": "python",
   "name": "python3"
  },
  "language_info": {
   "codemirror_mode": {
    "name": "ipython",
    "version": 3
   },
   "file_extension": ".py",
   "mimetype": "text/x-python",
   "name": "python",
   "nbconvert_exporter": "python",
   "pygments_lexer": "ipython3",
   "version": "3.10.3"
  }
 },
 "nbformat": 4,
 "nbformat_minor": 1
}